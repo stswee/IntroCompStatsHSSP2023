{
  "nbformat": 4,
  "nbformat_minor": 0,
  "metadata": {
    "colab": {
      "provenance": [],
      "authorship_tag": "ABX9TyO54ndIrpXj2G/SeavLqjL3",
      "include_colab_link": true
    },
    "kernelspec": {
      "name": "python3",
      "display_name": "Python 3"
    },
    "language_info": {
      "name": "python"
    }
  },
  "cells": [
    {
      "cell_type": "markdown",
      "metadata": {
        "id": "view-in-github",
        "colab_type": "text"
      },
      "source": [
        "<a href=\"https://colab.research.google.com/github/stswee/IntroCompStatsHSSP2023/blob/main/Mini_Projects/Intro_to_Comp_Statistics_Mini_Project_6.ipynb\" target=\"_parent\"><img src=\"https://colab.research.google.com/assets/colab-badge.svg\" alt=\"Open In Colab\"/></a>"
      ]
    },
    {
      "cell_type": "markdown",
      "source": [
        "# Introduction to Computational Statistics (HSSP 2023 Edition)\n",
        "## Mini-Project 6: Writing and Presenting\n",
        "\n",
        "In this mini-project, you will go through the last 2 steps of the outlined procedure covered in Day 6. The goal is to have you outline a report and a presentation.\n",
        "\n",
        "Because this project is open-ended, there will be no solutions provided. However, you can use the class slides as guidance.\n",
        "\n",
        "As a disclaimer, the steps provided in class merely serve as a guideline. In practice, every research project is done a little differently and what exactly you want the final product to be will not be clear until you work through the project. In other words, this is a great opportunity to take chances and work on your own style of research. Of course, make sure that your research is ethical and follows the scientific process."
      ],
      "metadata": {
        "id": "402gZiNgHwBG"
      }
    },
    {
      "cell_type": "markdown",
      "source": [
        "### Step 6: Get results and perform analysis"
      ],
      "metadata": {
        "id": "kOLxqGTq8156"
      }
    },
    {
      "cell_type": "markdown",
      "source": [
        "In Step 5, you wrote a program that can run some statistical analysis. Copy and paste your code from Step 5 and extract the results. Interpret the results in a statistical and a practical fashion."
      ],
      "metadata": {
        "id": "puWYo-IJ84bG"
      }
    },
    {
      "cell_type": "code",
      "source": [
        "# Copy and write your program here"
      ],
      "metadata": {
        "id": "06L-u0MPTP4T"
      },
      "execution_count": null,
      "outputs": []
    },
    {
      "cell_type": "markdown",
      "source": [
        "Write your statistical interpretations here:\n",
        "\n"
      ],
      "metadata": {
        "id": "OB2xumhslGl0"
      }
    },
    {
      "cell_type": "markdown",
      "source": [
        "Write your practical interpretations here:"
      ],
      "metadata": {
        "id": "NlIIkBCNTXPI"
      }
    },
    {
      "cell_type": "markdown",
      "source": [
        "### Step 7: Writing the report and creating a presentation"
      ],
      "metadata": {
        "id": "zs8MwbbIlL-6"
      }
    },
    {
      "cell_type": "markdown",
      "source": [
        "The primary goal of this mini-project is to give a first-pass in writing a report and creating a presentation. Beyond this project, feel free to seek feedback from other sources (e.g. other experts or websites) to improve your report/project."
      ],
      "metadata": {
        "id": "_4huAbu6ldCf"
      }
    },
    {
      "cell_type": "markdown",
      "source": [
        "One of the ideas presented in class was outlining before drafting. By creating an outline of the report/presentation, you create a road map that you can follow. If you want to seek feedback from others, it is often easier to change an outline rather than an entire report/presentation.\n",
        "\n",
        "Write 2-3 bullet points for each section below:"
      ],
      "metadata": {
        "id": "1bIPEhRCdsNu"
      }
    },
    {
      "cell_type": "markdown",
      "source": [
        "#### Background/Introduction\n",
        "Write bullet points here"
      ],
      "metadata": {
        "id": "5OWsSvsKeBPc"
      }
    },
    {
      "cell_type": "markdown",
      "source": [
        "#### Methods\n",
        "Write bullet points here"
      ],
      "metadata": {
        "id": "hGRKrpNQeFZH"
      }
    },
    {
      "cell_type": "markdown",
      "source": [
        "#### Results\n",
        "Write bullet points here"
      ],
      "metadata": {
        "id": "6DDAKjmPeI6a"
      }
    },
    {
      "cell_type": "markdown",
      "source": [
        "#### Discussion\n",
        "Write bullet points here"
      ],
      "metadata": {
        "id": "oR2rE5rEeNhB"
      }
    },
    {
      "cell_type": "markdown",
      "source": [
        "#### Special Note\n",
        "\n",
        "Note that the abstract and conclusion sections are missing. This is because these sections are written last. By the time you have written someting for the other sections, you should already have a good idea for what to write in these two sections."
      ],
      "metadata": {
        "id": "F4V4KOgvePDT"
      }
    },
    {
      "cell_type": "markdown",
      "source": [
        "### What next?"
      ],
      "metadata": {
        "id": "nOxjxzfekd4J"
      }
    },
    {
      "cell_type": "markdown",
      "source": [
        "By the time you have completed this mini-project, you now have the tools and content needed to start writing a report and creating a presentation/poster. There is no right way to do these (though there are certainly wrong ways), but the best way is to follow guidelines online and seek feedback from experts.\n",
        "\n",
        "It takes a lot of time and practice to write good reports and create effective presentations, but I hope by going through these mini-projects that you learned something about computational statistics and how to communicate your results. Great work!"
      ],
      "metadata": {
        "id": "9h_w4Z_0kfeu"
      }
    }
  ]
}