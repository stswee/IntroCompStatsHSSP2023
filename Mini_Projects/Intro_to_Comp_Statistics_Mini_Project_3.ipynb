{
  "nbformat": 4,
  "nbformat_minor": 0,
  "metadata": {
    "colab": {
      "provenance": [],
      "authorship_tag": "ABX9TyP9sLZ8s0oh2Wru4D+YnIbE",
      "include_colab_link": true
    },
    "kernelspec": {
      "name": "python3",
      "display_name": "Python 3"
    },
    "language_info": {
      "name": "python"
    }
  },
  "cells": [
    {
      "cell_type": "markdown",
      "metadata": {
        "id": "view-in-github",
        "colab_type": "text"
      },
      "source": [
        "<a href=\"https://colab.research.google.com/github/stswee/IntroCompStatsHSSP2023/blob/main/Mini_Projects/Intro_to_Comp_Statistics_Mini_Project_3.ipynb\" target=\"_parent\"><img src=\"https://colab.research.google.com/assets/colab-badge.svg\" alt=\"Open In Colab\"/></a>"
      ]
    },
    {
      "cell_type": "markdown",
      "source": [
        "# Introduction to Computational Statistics (HSSP 2023 Edition)\n",
        "## Mini-Project 3: Running Simulations\n",
        "\n",
        "In this mini-project, you will expand on the in-class activities and run Monte Carlo simulations on your own. You will also perform bootstrapping to analyze a statistical problem."
      ],
      "metadata": {
        "id": "WgKetvWA4GBb"
      }
    },
    {
      "cell_type": "markdown",
      "source": [
        "### Monte Carlo Simulation"
      ],
      "metadata": {
        "id": "R9rZH8sq4hHA"
      }
    },
    {
      "cell_type": "markdown",
      "source": [
        "#### Exercise 1\n",
        "\n",
        "In class, we estimated the value of π using a quarter circle. Now, what happens when we use a half circle or a whole circle (or some other fraction of a circle)?\n",
        "\n",
        "The code below is the same as the one shown in class. Modify the code below to estimate π using a half circle, then a whole circle. If may be easier to modify the plotting code first to see if you are on the right track.\n",
        "\n",
        "How fast do the errors converge to 0?\n",
        "\n",
        "Bonus: Can you explain why the rate of convergence is faster/slower? (Hint: think about how variance is calculated)"
      ],
      "metadata": {
        "id": "NRJeM8xW4mI6"
      }
    },
    {
      "cell_type": "code",
      "source": [
        "# Load in packages\n",
        "import random\n",
        "import math\n",
        "import numpy as np\n",
        "import matplotlib.pyplot as plt"
      ],
      "metadata": {
        "id": "2e3fJekF594M"
      },
      "execution_count": null,
      "outputs": []
    },
    {
      "cell_type": "code",
      "execution_count": null,
      "metadata": {
        "id": "PwGWIUSN3lph"
      },
      "outputs": [],
      "source": [
        "# Run Monte Carlo Simulation (no plot)\n",
        "num_points = 10000\n",
        "\n",
        "# Keep track of number of points\n",
        "circle_points = 0\n",
        "square_points = 0\n",
        "\n",
        "# Generate points\n",
        "for i in range(num_points):\n",
        "  # Generate random x and y values\n",
        "  x = random.uniform(0, 1) # Modify me!\n",
        "  y = random.uniform(0, 1) # Modify me!\n",
        "\n",
        "  # Determine distance from origin\n",
        "  d = math.sqrt(x**2 + y**2)\n",
        "\n",
        "  # If distance is less than 1, then the point is inside the quarter-circle\n",
        "  if (d <= 1):\n",
        "    circle_points += 1\n",
        "\n",
        "  # Increase number of square points\n",
        "  square_points += 1\n",
        "\n",
        "  # Generate estimate for pi every 1000 points\n",
        "  if ((i % 1000) == 0):\n",
        "    pi = round(4 * circle_points / square_points, 4)\n",
        "    error = round(math.pi - pi, 4)\n",
        "    print(\"The estimate of pi is \" + str(float(pi)) + \" with an error of \" + str(float(error)))\n"
      ]
    },
    {
      "cell_type": "code",
      "source": [
        "# Run Monte Carlo Simulation (with plot)\n",
        "num_points = 100000\n",
        "\n",
        "# Keep track of number of points\n",
        "circle_points = 0\n",
        "square_points = 0\n",
        "\n",
        "# Store points\n",
        "circle_storage = np.empty([0, 2])\n",
        "square_storage = np.empty([0, 2])\n",
        "\n",
        "# Generate points\n",
        "for i in range(num_points):\n",
        "  # Generate random x and y values\n",
        "  x = random.uniform(-1, 1) # Modify me!\n",
        "  y = random.uniform(-1, 1) # Modify me!\n",
        "\n",
        "  # Determine distance from origin\n",
        "  d = math.sqrt(x**2 + y**2)\n",
        "\n",
        "  # If distance is less than 1, then the point is inside the quarter-circle\n",
        "  if (d <= 1):\n",
        "    circle_points += 1\n",
        "    circle_storage = np.append(circle_storage, [[x, y]], axis = 0)\n",
        "  else:\n",
        "    square_storage = np.append(square_storage, [[x, y]], axis = 0)\n",
        "\n",
        "  # Increase number of square points\n",
        "  square_points += 1\n",
        "\n",
        "  # Generate a plot for pi every 10000 points\n",
        "  if ((i % 10000) == 0):\n",
        "    fig = plt.figure()\n",
        "    ax1 = fig.add_subplot(111)\n",
        "    ax1.scatter(circle_storage[:,0], circle_storage[:,1], s=5, c='r', marker=\"o\", label='circle')\n",
        "    ax1.scatter(square_storage[:,0], square_storage[:,1], s=5, c='b', marker=\"o\", label='square')\n",
        "    plt.legend(loc='upper left')\n",
        "    plt.show()\n"
      ],
      "metadata": {
        "id": "bPVGkCjp52-y"
      },
      "execution_count": null,
      "outputs": []
    },
    {
      "cell_type": "markdown",
      "source": [
        "#### Exercise 2\n",
        "\n",
        "Monte Carlo simulations can also be used to estimate the area under the curve. Below is a graph of f(x) = x^2 on the interval [-2, 2].\n",
        "\n",
        "Should you solve for the area under the curve exactly (using calculus), you would get an area of 16/3, or approximately 5.333."
      ],
      "metadata": {
        "id": "AXPjnPCt6V7h"
      }
    },
    {
      "cell_type": "code",
      "source": [
        "def f(x):\n",
        "    return x ** 2\n",
        "\n",
        "x = np.linspace(-2, 2, 100)  # Interval [-2, 2]\n",
        "y = f(x)\n",
        "\n",
        "plt.plot(x, y, 'b-', linewidth=2)  # Plot the function f(x) = x^2\n",
        "\n",
        "# Shade the area under the curve in the interval [-2, 2]\n",
        "x_fill = np.linspace(-2, 2, 100)\n",
        "y_fill = f(x_fill)\n",
        "plt.fill_between(x_fill, y_fill, color='lightblue')\n",
        "\n",
        "plt.xlabel('x')\n",
        "plt.ylabel('f(x)')\n",
        "plt.title('Plot of f(x) = x^2 with shaded area under the curve')\n",
        "plt.show()\n"
      ],
      "metadata": {
        "colab": {
          "base_uri": "https://localhost:8080/",
          "height": 472
        },
        "id": "i0gr-yto7rUC",
        "outputId": "2cf2b7c0-0d76-41e5-ce7d-928b7de51788"
      },
      "execution_count": null,
      "outputs": [
        {
          "output_type": "display_data",
          "data": {
            "text/plain": [
              "<Figure size 640x480 with 1 Axes>"
            ],
            "image/png": "[encoded data removed]"
          },
          "metadata": {}
        }
      ]
    },
    {
      "cell_type": "markdown",
      "source": [
        "Write code for a Monte Carlo simulation to estimate the area under the curve."
      ],
      "metadata": {
        "id": "gjIgZPa08qM-"
      }
    },
    {
      "cell_type": "code",
      "source": [
        "# Write your code here\n",
        "# Hint: It is a great idea to reuse code from before to help you out"
      ],
      "metadata": {
        "id": "uW0oOx418eMd"
      },
      "execution_count": null,
      "outputs": []
    }
  ]
}