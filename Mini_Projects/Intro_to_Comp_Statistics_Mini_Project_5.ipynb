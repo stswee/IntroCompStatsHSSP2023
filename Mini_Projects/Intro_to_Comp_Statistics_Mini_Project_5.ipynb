{
  "nbformat": 4,
  "nbformat_minor": 0,
  "metadata": {
    "colab": {
      "provenance": [],
      "authorship_tag": "ABX9TyOjVjyDW/KN/TAKTgmdRpay",
      "include_colab_link": true
    },
    "kernelspec": {
      "name": "python3",
      "display_name": "Python 3"
    },
    "language_info": {
      "name": "python"
    }
  },
  "cells": [
    {
      "cell_type": "markdown",
      "metadata": {
        "id": "view-in-github",
        "colab_type": "text"
      },
      "source": [
        "<a href=\"https://colab.research.google.com/github/stswee/IntroCompStatsHSSP2023/blob/main/Mini_Projects/Intro_to_Comp_Statistics_Mini_Project_5.ipynb\" target=\"_parent\"><img src=\"https://colab.research.google.com/assets/colab-badge.svg\" alt=\"Open In Colab\"/></a>"
      ]
    },
    {
      "cell_type": "markdown",
      "source": [
        "# Introduction to Computational Statistics (HSSP 2023 Edition)\n",
        "## Mini-Project 5: Finding Your Own Dataset\n",
        "\n",
        "In this mini-project, you will go through the first 5 steps of the outlined procedure covered in Day 5. The goal is to have you get started on your research project.\n",
        "\n",
        "Because this project is open-ended, there will be no solutions provided. However, you can use the class slides as guidance.\n",
        "\n",
        "As a disclaimer, the steps provided in class merely serve as a guideline. In practice, every research project is done a little differently and what exactly you want the final product to be will not be clear until you work through the project. In other words, this is a great opportunity to take chances and work on your own style of research. Of course, make sure that your research is ethical and follows the scientific process."
      ],
      "metadata": {
        "id": "402gZiNgHwBG"
      }
    },
    {
      "cell_type": "markdown",
      "source": [
        "### Step 1: Come up with a research question you are curious about"
      ],
      "metadata": {
        "id": "kOLxqGTq8156"
      }
    },
    {
      "cell_type": "markdown",
      "source": [
        "While this research question may change, come up with a few topics that you are interested in. Are there any real-life phenomena that you are interested in? Are there any pressing issues you want to solve?\n",
        "\n",
        "The research question can tackle topics ranging from restaurant reviews in Boston to climate change. Remember that a good research question is one that you have thought deeply about. Refer back to Days 1 and 2 material as needed for how to use iteration to come up with better research questions."
      ],
      "metadata": {
        "id": "puWYo-IJ84bG"
      }
    },
    {
      "cell_type": "markdown",
      "source": [
        "Write your research question(s) here:\n",
        "\n",
        "\n"
      ],
      "metadata": {
        "id": "OB2xumhslGl0"
      }
    },
    {
      "cell_type": "markdown",
      "source": [
        "### Step 2: Look for datasets related to your question"
      ],
      "metadata": {
        "id": "zs8MwbbIlL-6"
      }
    },
    {
      "cell_type": "markdown",
      "source": [
        "This [Medium article](https://medium.com/analytics-vidhya/top-100-open-source-datasets-for-data-science-cd5a8d67cc3d) lists out the Top 100 datasets. While the article is for members only, you do have access to the first few links.\n",
        "\n",
        "Here is a link to another [GitHub site](https://github.com/awesomedata/awesome-public-datasets) that contains searchable datasets. See if you can find one that interests you!\n",
        "\n",
        "Alternatively, you can create your own datasets by scraping web data or manually record them."
      ],
      "metadata": {
        "id": "_4huAbu6ldCf"
      }
    },
    {
      "cell_type": "markdown",
      "source": [
        "### Step 3: Revise your research question"
      ],
      "metadata": {
        "id": "l9DE_NXdmB8g"
      }
    },
    {
      "cell_type": "markdown",
      "source": [
        "The goal of Step 1 is to narrow your interests and help you find an appropriate dataset. After looking at the datasets, you may want to revise your research question so that you can use the data to formulate an answer."
      ],
      "metadata": {
        "id": "FpYaZXmFmEk-"
      }
    },
    {
      "cell_type": "markdown",
      "source": [
        "Write your revised research question(s) here:\n",
        "\n",
        "\n"
      ],
      "metadata": {
        "id": "HMjo2ojamW1c"
      }
    },
    {
      "cell_type": "markdown",
      "source": [
        "### Step 4: Think of an appropriate statistical method"
      ],
      "metadata": {
        "id": "Zsokh2hpmZPH"
      }
    },
    {
      "cell_type": "markdown",
      "source": [
        "In general, we tend to favor simpler methods rather than more complex ones. Simpler methods and their results are generally easier to communicate to a larger audience. They are also easier to perform. Nonetheless, a more complex method may be more appropriate to better understand what's really going on in the data.\n",
        "\n",
        "In class, we went over Monte Carlo and Bootstrapping, two methods that can augment classical statistical methods like linear regression and the chi-square test for independence. Feel free to branch out to other statistical methods not covered.\n",
        "\n",
        "For those interested in the machine learning side of things, some methods worth exploring are logistic regression, decision trees, k nearest neighbors, and neural networks.\n",
        "\n",
        "For those interested in the statistics side of things, some methods worth exploring are analysis of variance, Bayesian statistics, and goodness of fit tests."
      ],
      "metadata": {
        "id": "8fKEkIP4mcWF"
      }
    },
    {
      "cell_type": "markdown",
      "source": [
        "### Step 5: Program"
      ],
      "metadata": {
        "id": "Vfh1AQjNnXBS"
      }
    },
    {
      "cell_type": "markdown",
      "source": [
        "Perhaps the most technical part of the project, writing a program allows you to have the computer perform all of the calculations for you.\n",
        "\n",
        "A good strategy is to either use ChatGPT for sample code or look up tutorials for various statistical methods. Then, try to follow the tutorials as best you can. Often, this means manipulating your data such that it can be run in the same program as the tutorial, just with different values."
      ],
      "metadata": {
        "id": "hRAycRSvnYzn"
      }
    },
    {
      "cell_type": "code",
      "source": [
        "# Write your program here"
      ],
      "metadata": {
        "id": "YlMDjKM3n3xh"
      },
      "execution_count": null,
      "outputs": []
    },
    {
      "cell_type": "markdown",
      "source": [
        "### A Look Ahead"
      ],
      "metadata": {
        "id": "X3VZcRp8n6I8"
      }
    },
    {
      "cell_type": "markdown",
      "source": [
        "Steps 6 and 7 will focus on getting the results, performing the analysis, and sharing your ideas with the community. We will cover how to carefully interpret results and present ideas in a clear and rigorous manner on Day 6. Remember that statistics are very powerful in which they can influence decisions, so we want to make sure that we are able to defend our ideas."
      ],
      "metadata": {
        "id": "Znm9h96qn75K"
      }
    }
  ]
}