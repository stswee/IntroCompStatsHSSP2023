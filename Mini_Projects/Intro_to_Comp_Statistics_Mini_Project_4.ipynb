{
  "nbformat": 4,
  "nbformat_minor": 0,
  "metadata": {
    "colab": {
      "provenance": [],
      "authorship_tag": "ABX9TyPmIibXa5nia/H+Ax9aqRiv",
      "include_colab_link": true
    },
    "kernelspec": {
      "name": "python3",
      "display_name": "Python 3"
    },
    "language_info": {
      "name": "python"
    }
  },
  "cells": [
    {
      "cell_type": "markdown",
      "metadata": {
        "id": "view-in-github",
        "colab_type": "text"
      },
      "source": [
        "<a href=\"https://colab.research.google.com/github/stswee/IntroCompStatsHSSP2023/blob/main/Mini_Projects/Intro_to_Comp_Statistics_Mini_Project_4.ipynb\" target=\"_parent\"><img src=\"https://colab.research.google.com/assets/colab-badge.svg\" alt=\"Open In Colab\"/></a>"
      ]
    },
    {
      "cell_type": "markdown",
      "source": [
        "# Introduction to Computational Statistics (HSSP 2023 Edition)\n",
        "## Mini-Project 4: Bootstrapping and Kaggle Datasets\n",
        "\n",
        "In this mini-project, you will run a bootstrapping program. You will also learn how to load in a dataset directly from Kaggle and perform basic data manipulation."
      ],
      "metadata": {
        "id": "402gZiNgHwBG"
      }
    },
    {
      "cell_type": "markdown",
      "source": [
        "### Bootstrapping"
      ],
      "metadata": {
        "id": "kOLxqGTq8156"
      }
    },
    {
      "cell_type": "markdown",
      "source": [
        "In class, we covered how bootstrapping works and why it is a useful tool. It turns out that there are multiple flavors of bootstrapping: parametric, semiparametric, and nonparametric."
      ],
      "metadata": {
        "id": "puWYo-IJ84bG"
      }
    },
    {
      "cell_type": "markdown",
      "source": [
        "#### Exercise 1\n",
        "Perform a little bit of reading on parametric, semiparametric, and nonparametric bootstrapping. In your own words, describe the differences between the three flavors of bootstrapping."
      ],
      "metadata": {
        "id": "E3_CF7GR_YQu"
      }
    },
    {
      "cell_type": "markdown",
      "source": [
        "#### Exercise 2\n",
        "\n",
        "Suppose we run an experiment to see if a casino is playing fair. For this experiment, we determine that a casino is \"fair\" if the mean profit is around 100 (in thousands). We gather profit data from the casino on 40 different days."
      ],
      "metadata": {
        "id": "QRFqlGg6_rcm"
      }
    },
    {
      "cell_type": "code",
      "source": [
        "# Data\n",
        "profit = np.array([100, 115, 170, 105, 108, 98, 142, 110, 150, 124,\n",
        "                   131, 113, 88, 108, 106, 114, 131, 99, 102, 154,\n",
        "                   121, 130, 112, 110, 100, 120, 130, 121, 114, 111,\n",
        "                   202, 145, 162, 82, 123, 182, 102, 101, 108, 96])\n",
        "profit.size # Should be 40"
      ],
      "metadata": {
        "id": "G2QBtHI3BDLf"
      },
      "execution_count": null,
      "outputs": []
    },
    {
      "cell_type": "markdown",
      "source": [
        "We would like to generate confidence intervals for the data. As a general rule of thumb, if the confidence interval contains the \"fair\" value of 100, then we can say that it is plausible that the casino is playing fair.\n",
        "\n",
        "In Statistics, the expression for the (aysmptotic) 95% confidence interval is:\n",
        "\n",
        "![ci-for-the-mean-formula.webp](data:image/webp;base64,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)\n",
        "\n",
        "where xbar (x with a bar on top) is the sample mean, z is equal to 1.96, s is the sample standard deviation, and n is the sample size of 40.\n",
        "\n",
        "For the more statistics-savvy people, at a \"large enough\" sample size, using either the z or t value will yield nearly the same result. Since our sample is \"large enough,\" we'll opt to use a z value of 1.96."
      ],
      "metadata": {
        "id": "psZmArtcB8gs"
      }
    },
    {
      "cell_type": "markdown",
      "source": [
        "Write the code to compute the (asymptotic) 95% confidence interval"
      ],
      "metadata": {
        "id": "BKs1HMBUDeoE"
      }
    },
    {
      "cell_type": "code",
      "source": [
        "# Write code here"
      ],
      "metadata": {
        "id": "iFeXgCIdDdXo"
      },
      "execution_count": null,
      "outputs": []
    },
    {
      "cell_type": "markdown",
      "source": [
        "Write code to compute the bootstrap 95% confidence interval. Compare your result with the asymptotic 95% confidence interval."
      ],
      "metadata": {
        "id": "yCtDg3ULEQko"
      }
    },
    {
      "cell_type": "code",
      "source": [
        "# Write code here"
      ],
      "metadata": {
        "id": "PW8dwBkZEQB1"
      },
      "execution_count": null,
      "outputs": []
    },
    {
      "cell_type": "markdown",
      "source": [
        "Based on your intervals above, is the casino playing fair?"
      ],
      "metadata": {
        "id": "L2YPA7L6Ea52"
      }
    }
  ]
}