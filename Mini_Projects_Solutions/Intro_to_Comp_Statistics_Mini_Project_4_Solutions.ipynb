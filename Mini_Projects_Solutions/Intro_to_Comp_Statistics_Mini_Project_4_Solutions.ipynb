{
  "nbformat": 4,
  "nbformat_minor": 0,
  "metadata": {
    "colab": {
      "provenance": [],
      "authorship_tag": "ABX9TyPx7B3tw9RpaMKJPrYdRM+c",
      "include_colab_link": true
    },
    "kernelspec": {
      "name": "python3",
      "display_name": "Python 3"
    },
    "language_info": {
      "name": "python"
    }
  },
  "cells": [
    {
      "cell_type": "markdown",
      "metadata": {
        "id": "view-in-github",
        "colab_type": "text"
      },
      "source": [
        "<a href=\"https://colab.research.google.com/github/stswee/IntroCompStatsHSSP2023/blob/main/Mini_Projects_Solutions/Intro_to_Comp_Statistics_Mini_Project_4_Solutions.ipynb\" target=\"_parent\"><img src=\"https://colab.research.google.com/assets/colab-badge.svg\" alt=\"Open In Colab\"/></a>"
      ]
    },
    {
      "cell_type": "markdown",
      "source": [
        "# Introduction to Computational Statistics (HSSP 2023 Edition)\n",
        "## Mini-Project 4: Bootstrapping and Kaggle Datasets\n",
        "\n",
        "In this mini-project, you will run a bootstrapping program. You will also learn how to load in a dataset directly from Kaggle and perform basic data manipulation."
      ],
      "metadata": {
        "id": "402gZiNgHwBG"
      }
    },
    {
      "cell_type": "markdown",
      "source": [
        "### Bootstrapping"
      ],
      "metadata": {
        "id": "kOLxqGTq8156"
      }
    },
    {
      "cell_type": "markdown",
      "source": [
        "In class, we covered how bootstrapping works and why it is a useful tool. It turns out that there are multiple flavors of bootstrapping: parametric, semiparametric, and nonparametric."
      ],
      "metadata": {
        "id": "puWYo-IJ84bG"
      }
    },
    {
      "cell_type": "markdown",
      "source": [
        "#### Exercise 1\n",
        "Perform a little bit of reading on parametric, semiparametric, and nonparametric bootstrapping. In your own words, describe the differences between the three flavors of bootstrapping."
      ],
      "metadata": {
        "id": "E3_CF7GR_YQu"
      }
    },
    {
      "cell_type": "markdown",
      "source": [
        "Sample Response:\n",
        "\n",
        "Parametric bootstrapping assumes that the data comes from some underlying distribution (ex: the normal distribution). We can estimate the parameters of this distribution and use these parameters to simulate the sample.\n",
        "\n",
        "Nonparametric bootstrapping involves sampling with replacement from the dataset many times. The idea is that the if the original data comes from some weird distribution (one that we may not be able to figure out), if we sample and resample from our original data, then we are (almost) sampling from the weird distribution.\n",
        "\n",
        "Semiparametric bootstrapping lies somewhere in between the two approaches. Like parametric bootstrapping, we assume that the data comes from some underlying distribution and estimate the parameters of that distribution. Next, we fit the data and calculate the errors. We then follow the nonparametric approach in which we sample with replacement the errors. The errors are then applied to each data point. In essence, we are shifting our output a little higher or a little lower, simulating noise. We then estimate the parameters and refit the model."
      ],
      "metadata": {
        "id": "K2vXSHpFyLN8"
      }
    },
    {
      "cell_type": "markdown",
      "source": [
        "#### Exercise 2\n",
        "\n",
        "Suppose we run an experiment to see if a casino is playing fair. For this experiment, we determine that a casino is \"fair\" if the mean profit is around 100 (in thousands). We gather profit data from the casino on 40 different days."
      ],
      "metadata": {
        "id": "QRFqlGg6_rcm"
      }
    },
    {
      "cell_type": "code",
      "source": [
        "# Import packages\n",
        "import numpy as np\n",
        "from scipy import stats"
      ],
      "metadata": {
        "id": "Tl2Hgi5b0d9m"
      },
      "execution_count": 2,
      "outputs": []
    },
    {
      "cell_type": "code",
      "source": [
        "# Data\n",
        "profit = np.array([100, 115, 170, 105, 108, 98, 142, 110, 150, 124,\n",
        "                   131, 113, 88, 108, 106, 114, 131, 99, 102, 154,\n",
        "                   121, 130, 112, 110, 100, 120, 130, 121, 114, 111,\n",
        "                   202, 145, 162, 82, 123, 182, 102, 101, 108, 96])\n",
        "profit.size # Should be 40"
      ],
      "metadata": {
        "id": "G2QBtHI3BDLf",
        "colab": {
          "base_uri": "https://localhost:8080/"
        },
        "outputId": "795441a2-6367-49b1-bfee-b2fe8302a8ac"
      },
      "execution_count": 3,
      "outputs": [
        {
          "output_type": "execute_result",
          "data": {
            "text/plain": [
              "40"
            ]
          },
          "metadata": {},
          "execution_count": 3
        }
      ]
    },
    {
      "cell_type": "markdown",
      "source": [
        "We would like to generate confidence intervals for the data. As a general rule of thumb, if the confidence interval contains the \"fair\" value of 100, then we can say that it is plausible that the casino is playing fair.\n",
        "\n",
        "In Statistics, the expression for the (aysmptotic) 95% confidence interval is:\n",
        "\n",
        "![ci-for-the-mean-formula.webp](data:image/webp;base64,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)\n",
        "\n",
        "where xbar (x with a bar on top) is the sample mean, z is equal to 1.96, s is the sample standard deviation, and n is the sample size of 40.\n",
        "\n",
        "For the more statistics-savvy people, at a \"large enough\" sample size, using either the z or t value will yield nearly the same result. Since our sample is \"large enough,\" we'll opt to use a z value of 1.96."
      ],
      "metadata": {
        "id": "psZmArtcB8gs"
      }
    },
    {
      "cell_type": "markdown",
      "source": [
        "Write the code to compute the (asymptotic) 95% confidence interval"
      ],
      "metadata": {
        "id": "BKs1HMBUDeoE"
      }
    },
    {
      "cell_type": "code",
      "source": [
        "# Write code here\n",
        "mean = np.mean(profit) # Calculate mean\n",
        "s = np.std(profit) # Calculate standard deviation\n",
        "n = len(profit) # Calculate sample size\n",
        "\n",
        "# Calculate confidence interval\n",
        "stats.norm.interval(0.95, loc=mean, scale=s/np.sqrt(n))\n"
      ],
      "metadata": {
        "id": "iFeXgCIdDdXo",
        "colab": {
          "base_uri": "https://localhost:8080/"
        },
        "outputId": "2d657c19-a2a7-4f8e-9e0e-0b494c298ab1"
      },
      "execution_count": 5,
      "outputs": [
        {
          "output_type": "execute_result",
          "data": {
            "text/plain": [
              "(113.16811046302149, 128.8318895369785)"
            ]
          },
          "metadata": {},
          "execution_count": 5
        }
      ]
    },
    {
      "cell_type": "markdown",
      "source": [
        "Write code to compute the bootstrap 95% confidence interval. Compare your result with the asymptotic 95% confidence interval."
      ],
      "metadata": {
        "id": "yCtDg3ULEQko"
      }
    },
    {
      "cell_type": "code",
      "source": [
        "# Write code here\n",
        "\n",
        "# Single sample\n",
        "sample = np.random.choice(profit, size = len(profit))\n",
        "mean = np.mean(sample) # Calculate mean\n",
        "s = np.std(sample) # Calculate standard deviation\n",
        "n = len(sample) # Calculate sample size\n",
        "\n",
        "# Calculate confidence interval\n",
        "stats.norm.interval(0.95, loc=mean, scale=s/np.sqrt(n))\n"
      ],
      "metadata": {
        "id": "PW8dwBkZEQB1",
        "colab": {
          "base_uri": "https://localhost:8080/"
        },
        "outputId": "d35926c5-6579-4f7e-db0c-d0dffcf6e35d"
      },
      "execution_count": 10,
      "outputs": [
        {
          "output_type": "execute_result",
          "data": {
            "text/plain": [
              "(107.52179877218893, 121.47820122781107)"
            ]
          },
          "metadata": {},
          "execution_count": 10
        }
      ]
    },
    {
      "cell_type": "code",
      "source": [
        "# Bootstrap\n",
        "# Number of iterations\n",
        "B = 1000\n",
        "\n",
        "# Store results\n",
        "lower_bound = np.empty(B)\n",
        "upper_bound = np.empty(B)\n",
        "\n",
        "# Perform bootstrapping\n",
        "for b in range(B):\n",
        "\n",
        "  # Single sample\n",
        "  sample = np.random.choice(profit, size = len(profit))\n",
        "  mean = np.mean(sample) # Calculate mean\n",
        "  s = np.std(sample) # Calculate standard deviation\n",
        "  n = len(sample) # Calculate sample size\n",
        "\n",
        "  # Append results\n",
        "  lower_bound[b] = stats.norm.interval(0.95, loc=mean, scale=s/np.sqrt(n))[0]\n",
        "  upper_bound[b] = stats.norm.interval(0.95, loc=mean, scale=s/np.sqrt(n))[1]\n",
        "\n",
        "  # Keep track of progress for every 100 iterations\n",
        "  if (b % 100 == 0):\n",
        "    print(b)"
      ],
      "metadata": {
        "colab": {
          "base_uri": "https://localhost:8080/"
        },
        "id": "SnUrUohg13VW",
        "outputId": "74876bac-04ac-45b9-8be3-caa64f0d35fc"
      },
      "execution_count": 13,
      "outputs": [
        {
          "output_type": "stream",
          "name": "stdout",
          "text": [
            "0\n",
            "100\n",
            "200\n",
            "300\n",
            "400\n",
            "500\n",
            "600\n",
            "700\n",
            "800\n",
            "900\n"
          ]
        }
      ]
    },
    {
      "cell_type": "code",
      "source": [
        "# Get 95% confidence interval\n",
        "print(\"Lower bound: \" , np.mean(lower_bound)) # Use mean of lower bounds\n",
        "print(\"Upper bound: \" , np.mean(upper_bound)) # Use mean of upper bounds"
      ],
      "metadata": {
        "colab": {
          "base_uri": "https://localhost:8080/"
        },
        "id": "pohsJUNv3Cws",
        "outputId": "8f1d2b26-be8f-4a0a-c9e1-b53b15603b66"
      },
      "execution_count": 15,
      "outputs": [
        {
          "output_type": "stream",
          "name": "stdout",
          "text": [
            "Lower bound:  113.36176429594984\n",
            "Upper bound:  128.59743570405018\n"
          ]
        }
      ]
    },
    {
      "cell_type": "markdown",
      "source": [
        "Based on your intervals above, is the casino playing fair?"
      ],
      "metadata": {
        "id": "L2YPA7L6Ea52"
      }
    },
    {
      "cell_type": "markdown",
      "source": [
        "Both intervals do not contain 100, which means that the casino is likely to not be playing fair."
      ],
      "metadata": {
        "id": "GFhcYf813-XB"
      }
    }
  ]
}