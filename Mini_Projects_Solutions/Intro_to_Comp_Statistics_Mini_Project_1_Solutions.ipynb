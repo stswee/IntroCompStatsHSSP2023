{
  "nbformat": 4,
  "nbformat_minor": 0,
  "metadata": {
    "colab": {
      "provenance": [],
      "authorship_tag": "ABX9TyP+TkDyYik2TjiVRlWLqJTl",
      "include_colab_link": true
    },
    "kernelspec": {
      "name": "python3",
      "display_name": "Python 3"
    },
    "language_info": {
      "name": "python"
    }
  },
  "cells": [
    {
      "cell_type": "markdown",
      "metadata": {
        "id": "view-in-github",
        "colab_type": "text"
      },
      "source": [
        "<a href=\"https://colab.research.google.com/github/stswee/IntroCompStatsHSSP2023/blob/main/Mini_Projects_Solutions/Intro_to_Comp_Statistics_Mini_Project_1_Solutions.ipynb\" target=\"_parent\"><img src=\"https://colab.research.google.com/assets/colab-badge.svg\" alt=\"Open In Colab\"/></a>"
      ]
    },
    {
      "cell_type": "markdown",
      "source": [
        "# Introduction to Computational Statistics (HSSP 2023 Edition)\n",
        "## Mini-Project 1: Intro to Python Programming\n",
        "\n",
        "In this mini-project, you will learn how to use Google CoLab to program in Python. This mini-project will cover most of the tools you'll need for the class, but there may be times that you will have to do your own research (i.e. use ChatGPT). However, it is still a good idea to have some of the basics down so you know exactly how your programs run."
      ],
      "metadata": {
        "id": "Vm1KjpvyD3JH"
      }
    },
    {
      "cell_type": "markdown",
      "source": [
        "### Preliminaries"
      ],
      "metadata": {
        "id": "rWrVDIkAF8Nk"
      }
    },
    {
      "cell_type": "markdown",
      "source": [
        "Personally, I find it good practice to import in all your needed packages at the beginning. That way, you don't have to worry about them later. Run the line of code below to import the packages."
      ],
      "metadata": {
        "id": "CzHqxU6uGC2G"
      }
    },
    {
      "cell_type": "code",
      "execution_count": null,
      "metadata": {
        "id": "vnjkKLS0Dujd"
      },
      "outputs": [],
      "source": [
        "# Import packages\n",
        "import numpy as np # Great for arrays\n",
        "import pandas as pd # Great for loading/writing data\n",
        "import matplotlib.pyplot as plt # Great for plotting"
      ]
    },
    {
      "cell_type": "markdown",
      "source": [
        "There will be different packages to import later on in the course. For now, these will suffice.\n",
        "\n",
        "You may notice that there are green text after a #. This is a comment in Python. Comments are useful for explaining how a line of code runs or why it was written in the first place."
      ],
      "metadata": {
        "id": "_QJC6f4tGlbu"
      }
    },
    {
      "cell_type": "markdown",
      "source": [
        "### Basic Python"
      ],
      "metadata": {
        "id": "NXKjGuJbG8ap"
      }
    },
    {
      "cell_type": "markdown",
      "source": [
        "Variables, like in algebra, are used to represent a particular value. These values are stored as integers or floats (fancy for decimals). Try running the code below:"
      ],
      "metadata": {
        "id": "EjfRrQcsHGT_"
      }
    },
    {
      "cell_type": "code",
      "source": [
        "x = 10\n",
        "print(x)"
      ],
      "metadata": {
        "colab": {
          "base_uri": "https://localhost:8080/"
        },
        "id": "CnSRG6rFHFm8",
        "outputId": "ec508cd4-a014-4c7d-a193-fb676d40e8fa"
      },
      "execution_count": null,
      "outputs": [
        {
          "output_type": "stream",
          "name": "stdout",
          "text": [
            "10\n"
          ]
        }
      ]
    },
    {
      "cell_type": "markdown",
      "source": [
        "The print() statement is useful if you want to see the output of your program."
      ],
      "metadata": {
        "id": "ttmu9Fa7HXac"
      }
    },
    {
      "cell_type": "code",
      "source": [
        "x"
      ],
      "metadata": {
        "colab": {
          "base_uri": "https://localhost:8080/"
        },
        "id": "SBKqDfVhG7me",
        "outputId": "95175fc8-ffce-4ce1-d9b4-0b9be5483fc0"
      },
      "execution_count": null,
      "outputs": [
        {
          "output_type": "execute_result",
          "data": {
            "text/plain": [
              "10"
            ]
          },
          "metadata": {},
          "execution_count": 3
        }
      ]
    },
    {
      "cell_type": "markdown",
      "source": [
        "Note that in Python, the output of the last line of code will automatically be shown."
      ],
      "metadata": {
        "id": "BLXP3i7qH2xe"
      }
    },
    {
      "cell_type": "markdown",
      "source": [
        "#### Exercise 1:\n",
        "\n",
        "Write some Python code that assigns the value of 5 to y and 24 to z. Multiply the two variables together. What is your output?"
      ],
      "metadata": {
        "id": "E-3JflbXQCys"
      }
    },
    {
      "cell_type": "code",
      "source": [
        "# Write your code here\n",
        "y = 5\n",
        "z = 24\n",
        "y * z"
      ],
      "metadata": {
        "id": "XiqYht_NH2Cg",
        "colab": {
          "base_uri": "https://localhost:8080/"
        },
        "outputId": "83b13e5b-4676-45bd-fd62-3375f23134d2"
      },
      "execution_count": null,
      "outputs": [
        {
          "output_type": "execute_result",
          "data": {
            "text/plain": [
              "120"
            ]
          },
          "metadata": {},
          "execution_count": 4
        }
      ]
    },
    {
      "cell_type": "markdown",
      "source": [
        "#### Exercise 2:\n",
        "Write some Python code that assigns the value of 6 to a and 4 to b. Comput a raised to the power of b (you may have to look up the syntax for exponents)."
      ],
      "metadata": {
        "id": "FHQ5u9zP-w1O"
      }
    },
    {
      "cell_type": "code",
      "source": [
        "# Write your code here\n",
        "a = 6\n",
        "b = 4\n",
        "a ** b"
      ],
      "metadata": {
        "id": "xSXIoE7a-7l2",
        "colab": {
          "base_uri": "https://localhost:8080/"
        },
        "outputId": "5996b640-bbf0-4604-900b-bffffe4ac89e"
      },
      "execution_count": null,
      "outputs": [
        {
          "output_type": "execute_result",
          "data": {
            "text/plain": [
              "1296"
            ]
          },
          "metadata": {},
          "execution_count": 5
        }
      ]
    },
    {
      "cell_type": "markdown",
      "source": [
        "#### Exercise 3:\n",
        "Explain what the code does below in your own words."
      ],
      "metadata": {
        "id": "1zCqh52p--3c"
      }
    },
    {
      "cell_type": "code",
      "source": [
        "x = 100\n",
        "x += 5\n",
        "print(x)\n",
        "\n",
        "y = 100\n",
        "y = y + 5\n",
        "print(y)"
      ],
      "metadata": {
        "colab": {
          "base_uri": "https://localhost:8080/"
        },
        "id": "EtXAxTF6_LRE",
        "outputId": "265acbf5-240e-487d-d9b3-ee1ee55efad8"
      },
      "execution_count": null,
      "outputs": [
        {
          "output_type": "stream",
          "name": "stdout",
          "text": [
            "105\n",
            "105\n"
          ]
        }
      ]
    },
    {
      "cell_type": "markdown",
      "source": [
        "Both x and y follow the same operations and add 5 to the variable. Note the conciseness of the += operation."
      ],
      "metadata": {
        "id": "ez_hsyNuL_3v"
      }
    },
    {
      "cell_type": "markdown",
      "source": [
        "We are also concerned about whether something is true or false. In Python, true is associated with a value of 1 while false is associated with a value of 0."
      ],
      "metadata": {
        "id": "uF4Ft28M_AVb"
      }
    },
    {
      "cell_type": "code",
      "source": [
        "t = True\n",
        "f = False\n",
        "\n",
        "print(t) # This prints True\n",
        "print(f) # This prints False\n",
        "print(t + 1) # This prints 2 because t = True = 1"
      ],
      "metadata": {
        "colab": {
          "base_uri": "https://localhost:8080/"
        },
        "id": "_YW43joj_ukT",
        "outputId": "af6652b7-064e-4a38-f8bf-9b2e46d5caa6"
      },
      "execution_count": null,
      "outputs": [
        {
          "output_type": "stream",
          "name": "stdout",
          "text": [
            "True\n",
            "False\n",
            "2\n"
          ]
        }
      ]
    },
    {
      "cell_type": "markdown",
      "source": [
        "For this class, we will use Boolean logic. Basically, this checks if an entire statement is true or false. Such logic is common in many programs."
      ],
      "metadata": {
        "id": "JQTBaFCy_81c"
      }
    },
    {
      "cell_type": "markdown",
      "source": [
        "#### Exercise 4\n",
        "Consider the following statements. Try to predict what the output would look like. Then, write some Python code to check if your prediction was correct.\n",
        "\n",
        "1. True and True\n",
        "2. True and False\n",
        "3. False and False\n",
        "4. True or True\n",
        "5. True or False\n",
        "6. False or False\n",
        "7. True is not equal to True\n",
        "8. True is not equal to False"
      ],
      "metadata": {
        "id": "aM9w84ryAVlY"
      }
    },
    {
      "cell_type": "code",
      "source": [
        "# Write code here\n",
        "# Hint: you may use \"!=\" (without quotes) for \"is not equal\"\n",
        "print(True and True)\n",
        "print(True and False)\n",
        "print(False and False)\n",
        "print(True or True)\n",
        "print(True or False)\n",
        "print(False or False)\n",
        "print(True != True)\n",
        "print(True != False)"
      ],
      "metadata": {
        "id": "TFq805HdAvWP",
        "colab": {
          "base_uri": "https://localhost:8080/"
        },
        "outputId": "48afee77-fdae-482b-e7a5-31743e9f54a4"
      },
      "execution_count": null,
      "outputs": [
        {
          "output_type": "stream",
          "name": "stdout",
          "text": [
            "True\n",
            "False\n",
            "False\n",
            "True\n",
            "True\n",
            "False\n",
            "False\n",
            "True\n"
          ]
        }
      ]
    },
    {
      "cell_type": "markdown",
      "source": [
        "That's pretty much it for the basic Python we'll use in this class. Of course, there is much more to basic Python (like strings), but like good programmers, we will learn these tools as we start to build larger programs."
      ],
      "metadata": {
        "id": "K0bAkE8EBJKb"
      }
    },
    {
      "cell_type": "markdown",
      "source": [
        "### Lists and Arrays"
      ],
      "metadata": {
        "id": "INs7cMhfBWey"
      }
    },
    {
      "cell_type": "markdown",
      "source": [
        "A **data structure** is a way for a computer to store information. Two such data structures are an **arrays** and **lists**. For our purposes, since we'll almost exclusively work with numbers, both will serve very similar purposes.\n",
        "\n",
        "For those more interested:\n",
        "\n",
        "Strictly speaking, an array is limited to only one data type whereas lists can hold multiple data types (e.g. numbers and strings). Due to the homogeneous nature of arrays, arrays are typically faster, more memory efficient, and are better suited for operations (which we will definitely do).   "
      ],
      "metadata": {
        "id": "O7OhDGMIBc3x"
      }
    },
    {
      "cell_type": "markdown",
      "source": [
        "We will be working with numpy arrays, which are a common way to store data. Let's look at an example numpy array:"
      ],
      "metadata": {
        "id": "kqsHs4wJC37t"
      }
    },
    {
      "cell_type": "code",
      "source": [
        "a = np.array([1, 2, 3, 4, 5])\n",
        "print(a)\n",
        "print(a.shape)"
      ],
      "metadata": {
        "colab": {
          "base_uri": "https://localhost:8080/"
        },
        "id": "7DktFs14BqZk",
        "outputId": "97b11014-8743-4572-97d6-36490aa1d698"
      },
      "execution_count": null,
      "outputs": [
        {
          "output_type": "stream",
          "name": "stdout",
          "text": [
            "[1 2 3 4 5]\n",
            "(5,)\n"
          ]
        }
      ]
    },
    {
      "cell_type": "markdown",
      "source": [
        "From the output above, we have a numpy array with 5 elements. Let's try a more complicated numpy array:"
      ],
      "metadata": {
        "id": "zssFtw6DDa1_"
      }
    },
    {
      "cell_type": "code",
      "source": [
        "b = np.array([[1, 2, 3], [4, 5, 6]])\n",
        "print(b)\n",
        "print(b.shape)"
      ],
      "metadata": {
        "colab": {
          "base_uri": "https://localhost:8080/"
        },
        "id": "Weeg7wwqBhRG",
        "outputId": "4b97979e-73e2-4f72-eb69-e8b28d39879b"
      },
      "execution_count": null,
      "outputs": [
        {
          "output_type": "stream",
          "name": "stdout",
          "text": [
            "[[1 2 3]\n",
            " [4 5 6]]\n",
            "(2, 3)\n"
          ]
        }
      ]
    },
    {
      "cell_type": "markdown",
      "source": [
        "From the output above, we have a numpy array with 6 elements. However, the elements are arranged such that there are two rows and three columns."
      ],
      "metadata": {
        "id": "wAJqFNRGDsTF"
      }
    },
    {
      "cell_type": "markdown",
      "source": [
        "#### Exercise 5\n",
        "Create a numpy array with three rows and three columns using the digits 1-9."
      ],
      "metadata": {
        "id": "ttSphs0QD0Gx"
      }
    },
    {
      "cell_type": "code",
      "source": [
        "# Write your code here\n",
        "array = np.array([[1, 2, 3], [4, 5, 6], [7, 8, 9]])\n",
        "array"
      ],
      "metadata": {
        "id": "BKUWroqGDzde",
        "colab": {
          "base_uri": "https://localhost:8080/"
        },
        "outputId": "e3b25b86-75f3-43d3-eea1-823a97f7d199"
      },
      "execution_count": null,
      "outputs": [
        {
          "output_type": "execute_result",
          "data": {
            "text/plain": [
              "array([[1, 2, 3],\n",
              "       [4, 5, 6],\n",
              "       [7, 8, 9]])"
            ]
          },
          "metadata": {},
          "execution_count": 11
        }
      ]
    },
    {
      "cell_type": "markdown",
      "source": [
        "#### Exercise 6\n",
        "Explain what the code below does in your own words."
      ],
      "metadata": {
        "id": "d0Jijj3DEAiO"
      }
    },
    {
      "cell_type": "code",
      "source": [
        "c = np.zeros((4, 5))\n",
        "print(c)"
      ],
      "metadata": {
        "colab": {
          "base_uri": "https://localhost:8080/"
        },
        "id": "j9tmCNHUEK8v",
        "outputId": "d20e621d-abfe-47f6-fcb8-478a74d28220"
      },
      "execution_count": null,
      "outputs": [
        {
          "output_type": "stream",
          "name": "stdout",
          "text": [
            "[[0. 0. 0. 0. 0.]\n",
            " [0. 0. 0. 0. 0.]\n",
            " [0. 0. 0. 0. 0.]\n",
            " [0. 0. 0. 0. 0.]]\n"
          ]
        }
      ]
    },
    {
      "cell_type": "markdown",
      "source": [
        "The code creates a 4x5 matrix full of zeros."
      ],
      "metadata": {
        "id": "6dB2cVcLMmXw"
      }
    },
    {
      "cell_type": "markdown",
      "source": [
        "To access the elements in a numpy array (and ultimately perform operations on them), we use indices. Note that Python starts indexing at 0, so to access the first element, we use the index of 0. To access the second element, we use the index of 1, and so forth."
      ],
      "metadata": {
        "id": "NfkNtYyzES03"
      }
    },
    {
      "cell_type": "code",
      "source": [
        "d = np.array([2, 4, 6])\n",
        "print(d[0]) # Prints out the first element, which is 2\n",
        "print(d[1]) # Prints out the second element, which is 4"
      ],
      "metadata": {
        "colab": {
          "base_uri": "https://localhost:8080/"
        },
        "id": "8Im3iWZbEqBH",
        "outputId": "f2cccbba-9ac0-4a94-aab1-72cefd5f2346"
      },
      "execution_count": null,
      "outputs": [
        {
          "output_type": "stream",
          "name": "stdout",
          "text": [
            "2\n",
            "4\n"
          ]
        }
      ]
    },
    {
      "cell_type": "markdown",
      "source": [
        "#### Exercise 7\n",
        "\n",
        "Write some Python code to access each element individually from the numpy array below."
      ],
      "metadata": {
        "id": "R0F4GD58E0OG"
      }
    },
    {
      "cell_type": "code",
      "source": [
        "e = np.array([[0, 1, 2], [3, 4, 5]])\n",
        "# Write your code here\n",
        "# Hint: To access the ith row and the jth column, you can use e[i][j]\n",
        "i = 0 # Modify this\n",
        "j = 0 # Modify this\n",
        "print(e[i][j])\n"
      ],
      "metadata": {
        "colab": {
          "base_uri": "https://localhost:8080/"
        },
        "id": "mfVZ2w1VEzaH",
        "outputId": "bb00bbaa-07fa-4abb-dd66-3ee73a9b9dc0"
      },
      "execution_count": null,
      "outputs": [
        {
          "output_type": "stream",
          "name": "stdout",
          "text": [
            "0\n"
          ]
        }
      ]
    },
    {
      "cell_type": "markdown",
      "source": [
        "#### Exercise 8\n",
        "Explain what the code below does in your own words."
      ],
      "metadata": {
        "id": "yvf_3x99FWNK"
      }
    },
    {
      "cell_type": "code",
      "source": [
        "f = np.linspace(0, 10, num = 11)\n",
        "print(f)\n",
        "print(f[f > 5])"
      ],
      "metadata": {
        "colab": {
          "base_uri": "https://localhost:8080/"
        },
        "id": "pn34z5GuFaPi",
        "outputId": "dc645667-88c8-4e8e-a25b-2b7347ba9af6"
      },
      "execution_count": null,
      "outputs": [
        {
          "output_type": "stream",
          "name": "stdout",
          "text": [
            "[ 0.  1.  2.  3.  4.  5.  6.  7.  8.  9. 10.]\n",
            "[ 6.  7.  8.  9. 10.]\n"
          ]
        }
      ]
    },
    {
      "cell_type": "markdown",
      "source": [
        "The code prints out all the elements that are greater than 5."
      ],
      "metadata": {
        "id": "O-cfkGlbMzrC"
      }
    },
    {
      "cell_type": "markdown",
      "source": [
        "As you may have noticed, like in Exercise 8, you may have to look up the documentation for manipulating numpy arrays. A good programmer not only knows how to code, but also how to think and how to Google."
      ],
      "metadata": {
        "id": "s30CswnAFsWg"
      }
    },
    {
      "cell_type": "markdown",
      "source": [
        "Let's now perform some basic operations with arrays. Let's see what the code below does."
      ],
      "metadata": {
        "id": "Rzev49IvzjQI"
      }
    },
    {
      "cell_type": "code",
      "source": [
        "g = np.array([3, 5, 9])\n",
        "g += 3\n",
        "print(g)"
      ],
      "metadata": {
        "colab": {
          "base_uri": "https://localhost:8080/"
        },
        "id": "lwBHRqLBzvLi",
        "outputId": "20d20e8b-fd9d-4723-f0c3-1e43dfe87acb"
      },
      "execution_count": null,
      "outputs": [
        {
          "output_type": "stream",
          "name": "stdout",
          "text": [
            "[ 6  8 12]\n"
          ]
        }
      ]
    },
    {
      "cell_type": "markdown",
      "source": [
        "Notice how every element in g has 3 added to it. Now, what if we want to only change the first element?"
      ],
      "metadata": {
        "id": "h-ktEQonz3Td"
      }
    },
    {
      "cell_type": "code",
      "source": [
        "g = np.array([3, 5, 9])\n",
        "g[0] += 3\n",
        "print(g)"
      ],
      "metadata": {
        "colab": {
          "base_uri": "https://localhost:8080/"
        },
        "id": "rQgqNtjN0Bqq",
        "outputId": "625aed03-cc02-4e9f-f176-ccb672216d8e"
      },
      "execution_count": null,
      "outputs": [
        {
          "output_type": "stream",
          "name": "stdout",
          "text": [
            "[6 5 9]\n"
          ]
        }
      ]
    },
    {
      "cell_type": "markdown",
      "source": [
        "We will need to access that particular element of g instead. Now, what if we perform operations with multiple arrays?"
      ],
      "metadata": {
        "id": "6H8kDVWj0Ft5"
      }
    },
    {
      "cell_type": "code",
      "source": [
        "h = np.array([2, 4, 7])\n",
        "i = np.array([6, 8, 9])\n",
        "j = np.array([9, 10, 11, 12])\n",
        "print(h + i)\n",
        "print(h * i)\n",
        "# print(h + j) # This creates an error!"
      ],
      "metadata": {
        "colab": {
          "base_uri": "https://localhost:8080/"
        },
        "id": "t6VBNL5D0NkU",
        "outputId": "57e6f2a2-cbe0-4f83-b0c4-ee3ffd5da61a"
      },
      "execution_count": null,
      "outputs": [
        {
          "output_type": "stream",
          "name": "stdout",
          "text": [
            "[ 8 12 16]\n",
            "[12 32 63]\n"
          ]
        }
      ]
    },
    {
      "cell_type": "markdown",
      "source": [
        "With arrays, operations are performed element-wise. That is, corresponding elements perform operations on each other.\n",
        "\n",
        "For those that have taken linear algebra, there are other operations like matrix multiplication, dot/inner products, cross products, etc. For the most part, we won't need these operations. However, if you are interested in machine learning, those operations are everywhere."
      ],
      "metadata": {
        "id": "D7xZg1Xw0a0U"
      }
    },
    {
      "cell_type": "markdown",
      "source": [
        "#### Exercise 9\n",
        "\n",
        "You are given two arrays:\n",
        "\n",
        "A = [3, 4, 5, 9]\n",
        "\n",
        "B = [2, 4, 7, 0]\n",
        "\n",
        "C = [1, 2, 3, 4, 5]\n",
        "\n",
        "Which operations are valid?\n",
        "\n",
        "1. A + B * 2\n",
        "2. C * 3 - C\n",
        "3. A * B - B * A\n",
        "4. A + C * B\n",
        "\n",
        "Check your answer using Python.\n"
      ],
      "metadata": {
        "id": "eliG5t3x0-LG"
      }
    },
    {
      "cell_type": "code",
      "source": [
        "# Write your code here\n",
        "A = np.array([3, 4, 5, 9])\n",
        "B = np.array([2, 4, 7, 0])\n",
        "C = np.array([1, 2, 3, 4, 5])\n",
        "print(A + B * 2)\n",
        "print(C * 3 - C)\n",
        "print(A * B - B * A)\n",
        "# print(A + C * B) # This gives an error because B and C are not the same size"
      ],
      "metadata": {
        "id": "yoMOGq9E1bWe",
        "colab": {
          "base_uri": "https://localhost:8080/"
        },
        "outputId": "ddc10580-3502-4f69-fc37-dd8ef6a08430"
      },
      "execution_count": null,
      "outputs": [
        {
          "output_type": "stream",
          "name": "stdout",
          "text": [
            "[ 7 12 19  9]\n",
            "[ 2  4  6  8 10]\n",
            "[0 0 0 0]\n"
          ]
        }
      ]
    },
    {
      "cell_type": "markdown",
      "source": [
        "### Loops"
      ],
      "metadata": {
        "id": "qWkRyaoq1g9k"
      }
    },
    {
      "cell_type": "markdown",
      "source": [
        "There are various types of loops in programming, but the one that we will be using the most is the **for loop**. For loops are great when we want to perform an operation for a fixed number of times.\n",
        "\n",
        "Here is the general syntax:"
      ],
      "metadata": {
        "id": "h6pj45321jRK"
      }
    },
    {
      "cell_type": "code",
      "source": [
        "# For loop pseudocode\n",
        "\n",
        "# Initialize\n",
        "\n",
        "# for (some number of iterations):\n",
        "#   do some operation\n",
        "# end\n",
        "\n",
        "# Print output"
      ],
      "metadata": {
        "id": "4Q1pqdnJ13aJ"
      },
      "execution_count": null,
      "outputs": []
    },
    {
      "cell_type": "markdown",
      "source": [
        "Notice how everything is commented out and basically written with just English words. This is known as **pseudocode**. Writing psudeocode means you are creating a plan using spoken or colloquial language. By writing psuedocode, you can make your programming life a lot easier."
      ],
      "metadata": {
        "id": "aA9Cx4Gu2G09"
      }
    },
    {
      "cell_type": "code",
      "source": [
        "# Task: Sum the numbers 1 + 2 + 3 + ... + 100\n",
        "# Expected output: 5050\n",
        "\n",
        "### Pseudocode\n",
        "\n",
        "# Initialize running sum to 0\n",
        "\n",
        "# for (i = 1 to 100):\n",
        "#   add i to running sum\n",
        "# end\n",
        "\n",
        "# Print output\n",
        "\n",
        "### Actual code\n",
        "\n",
        "# Initialize running sum to 0\n",
        "running_sum = 0\n",
        "\n",
        "# Loop over integers 1 to 100\n",
        "# Note that in Python, the range function starts at the first value and stops 1 before the second value\n",
        "for i in range(1, 101):\n",
        "  running_sum += i\n",
        "\n",
        "# Print output\n",
        "print(running_sum)\n",
        "\n"
      ],
      "metadata": {
        "colab": {
          "base_uri": "https://localhost:8080/"
        },
        "id": "mfo5K9Br2fQa",
        "outputId": "434da7fd-af71-4a03-f4c6-c0ff0e90e9ed"
      },
      "execution_count": null,
      "outputs": [
        {
          "output_type": "stream",
          "name": "stdout",
          "text": [
            "5050\n"
          ]
        }
      ]
    },
    {
      "cell_type": "markdown",
      "source": [
        "#### Exercise 10\n",
        "\n",
        "Write a for loop that multiplies the numbers 1 * 2 * ... * 10\n",
        "\n",
        "Expected output: 3628800"
      ],
      "metadata": {
        "id": "2HqrrGte3Ohk"
      }
    },
    {
      "cell_type": "code",
      "source": [
        "# Write your code here\n",
        "### Pseudocode\n",
        "\n",
        "# Initialize running product to 1\n",
        "\n",
        "# for (i = 2 to 10):\n",
        "#   add i to running product\n",
        "# end\n",
        "\n",
        "# Print output\n",
        "\n",
        "### Actual code\n",
        "\n",
        "# Initialize running product to 1\n",
        "running_product = 1\n",
        "\n",
        "# Loop over integers 2 to 10\n",
        "# Note that in Python, the range function starts at the first value and stops 1 before the second value\n",
        "for i in range(1, 11):\n",
        "  running_product *= i\n",
        "\n",
        "# Print output\n",
        "print(running_product)"
      ],
      "metadata": {
        "id": "IUNMaiOQ3cyf",
        "colab": {
          "base_uri": "https://localhost:8080/"
        },
        "outputId": "bbf6b429-4454-4f28-fd8e-c2759fa830d9"
      },
      "execution_count": null,
      "outputs": [
        {
          "output_type": "stream",
          "name": "stdout",
          "text": [
            "3628800\n"
          ]
        }
      ]
    },
    {
      "cell_type": "markdown",
      "source": [
        "#### Exercise 11\n",
        "\n",
        "Write a for loop that computes a running sum for every element in a numpy array.\n",
        "\n",
        "Example:\n",
        "\n",
        "Input: x = [2, 5, 10]\n",
        "\n",
        "Output:\n",
        "2\n",
        "7\n",
        "17"
      ],
      "metadata": {
        "id": "TnAnYyY23en-"
      }
    },
    {
      "cell_type": "code",
      "source": [
        "# Write your code here\n",
        "\n",
        "# Test array\n",
        "A = np.array([2, 5, 10])\n",
        "\n",
        "# Initialize running sum\n",
        "running_sum = 0\n",
        "\n",
        "# Loop over each element in A\n",
        "for i in range(len(A)):\n",
        "  running_sum += A[i]\n",
        "  print(running_sum)\n"
      ],
      "metadata": {
        "id": "J-18FG6335BX",
        "colab": {
          "base_uri": "https://localhost:8080/"
        },
        "outputId": "d364dff9-974f-4400-f0a8-9ede3a88e92d"
      },
      "execution_count": null,
      "outputs": [
        {
          "output_type": "stream",
          "name": "stdout",
          "text": [
            "2\n",
            "7\n",
            "17\n"
          ]
        }
      ]
    },
    {
      "cell_type": "markdown",
      "source": [
        "### Plots"
      ],
      "metadata": {
        "id": "ZRKeY5yf39yd"
      }
    },
    {
      "cell_type": "markdown",
      "source": [
        "When making visualizations, we like to create plots. Let's graph a plot of y = cos(x)."
      ],
      "metadata": {
        "id": "uoL5StZA4A-D"
      }
    },
    {
      "cell_type": "code",
      "source": [
        "# Compute x and y values for cosine curve\n",
        "step_size = 0.1\n",
        "x = np.arange(0, 4 * np.pi, step_size)\n",
        "y = np.cos(x)\n",
        "\n",
        "# Plot\n",
        "plt.plot(x, y)"
      ],
      "metadata": {
        "colab": {
          "base_uri": "https://localhost:8080/",
          "height": 448
        },
        "id": "8kxfMpLC4OSZ",
        "outputId": "28f7bb39-c34f-4b96-8e60-88543e8087e3"
      },
      "execution_count": null,
      "outputs": [
        {
          "output_type": "execute_result",
          "data": {
            "text/plain": [
              "[<matplotlib.lines.Line2D at 0x7f0b1c8dc550>]"
            ]
          },
          "metadata": {},
          "execution_count": 34
        },
        {
          "output_type": "display_data",
          "data": {
            "text/plain": [
              "<Figure size 640x480 with 1 Axes>"
            ],
            "image/png": "[encoded data removed]"
          },
          "metadata": {}
        }
      ]
    },
    {
      "cell_type": "markdown",
      "source": [
        "#### Exercise 12\n",
        "\n",
        "What happens if we change the step size in the code above? You may modify the code to see what happens.\n",
        "\n",
        "By making the step size larger, the plot becomes more jagged. By making the step size smaller, the plot becomes more smooth. This is because computers treat numbers as discrete as opposed to continuous. However, if the step size is sufficiently small, the plot appears smooth.\n",
        "\n",
        "#### Exercise 13\n",
        "\n",
        "Write Python code that plots the y = tan(x) for 0 <= x <= 3*pi using step sizes of 1, 0.5, 0.25, 0.125. Put all the curves on 2x2 grid. A portion of the code has been provided to you, though you are welcome to create your own solution."
      ],
      "metadata": {
        "id": "tf8-WCyt4qwP"
      }
    },
    {
      "cell_type": "code",
      "source": [
        "# Uncomment and finish the code here\n",
        "step_size = [1, 0.5, 0.25, 0.125]\n",
        "x1 = np.arange(0, 3 * np.pi, step_size[0])\n",
        "x2 = np.arange(0, 3 * np.pi, step_size[1])\n",
        "x3 = np.arange(0, 3 * np.pi, step_size[2])\n",
        "x4 = np.arange(0, 3 * np.pi, step_size[3])\n",
        "\n",
        "y1 = np.tan(x1)\n",
        "y2 = np.tan(x2)\n",
        "y3 = np.tan(x3)\n",
        "y4 = np.tan(x4)\n",
        "\n",
        "# Create 2x2 grid\n",
        "fig, axs = plt.subplots(2, 2)\n",
        "\n",
        "# Make plots in each cell of the grid\n",
        "axs[0, 0].plot(x1, y1)\n",
        "axs[0, 0].set_title(\"Step Size = 1\")\n",
        "\n",
        "axs[0, 1].plot(x2, y2)\n",
        "axs[0, 1].set_title(\"Step Size = 0.5\")\n",
        "\n",
        "axs[1, 0].plot(x3, y3)\n",
        "axs[1, 0].set_title(\"Step Size = 0.25\")\n",
        "\n",
        "axs[1, 1].plot(x4, y4)\n",
        "axs[1, 1].set_title(\"Step Size = 0.125\")\n",
        "\n",
        "# Adjust layout to allow spacing\n",
        "plt.tight_layout()\n",
        "\n",
        "# Show plots\n",
        "plt.show()"
      ],
      "metadata": {
        "id": "QLivp5di5LxG",
        "colab": {
          "base_uri": "https://localhost:8080/",
          "height": 486
        },
        "outputId": "ad062510-69cb-4847-aa13-e729a03013e4"
      },
      "execution_count": null,
      "outputs": [
        {
          "output_type": "display_data",
          "data": {
            "text/plain": [
              "<Figure size 640x480 with 4 Axes>"
            ],
            "image/png": "[encoded data removed]"
          },
          "metadata": {}
        }
      ]
    },
    {
      "cell_type": "markdown",
      "source": [
        "#### Exercise 14\n",
        "What are the benefits and downsides with choosing a larger/smaller step size?\n",
        "\n",
        "A smaller step size provides a more accurate representation of the function. However, it comes at the cost of requiring more memory, which may not always be available, and is slower to compute.  \n",
        "\n",
        "In general, we want to choose a step size that is just small enough to capture all the necessary features of a function."
      ],
      "metadata": {
        "id": "B6jSYCdg697H"
      }
    },
    {
      "cell_type": "markdown",
      "source": [
        "#### Exercise 15\n",
        "\n",
        "I asked ChatGPT to write this Python code. Try to explain what it does in your own words. Think about how you may be able to explain the ideas behind this code to someone who doesn't know math.\n",
        "\n",
        "It may be helpful to adjust the hyperparameters and initial point. Do the results differ when you change them?\n",
        "\n",
        "ChatGPT prompt: Write Python code that demonstrates gradient descent and plot it"
      ],
      "metadata": {
        "id": "gMyPIRl37KxD"
      }
    },
    {
      "cell_type": "code",
      "source": [
        "# Define the function to be optimized\n",
        "def f(x):\n",
        "    return x ** 2 + 5 * np.sin(x)\n",
        "\n",
        "# Define the derivative of the function\n",
        "def f_derivative(x):\n",
        "    return 2 * x + 5 * np.cos(x)\n",
        "\n",
        "# Perform gradient descent\n",
        "def gradient_descent(learning_rate, iterations):\n",
        "    ### CHANGE THIS!\n",
        "    x = -10  # Initial point\n",
        "    trajectory = [x]  # Store the trajectory of x values\n",
        "\n",
        "    for _ in range(iterations):\n",
        "        gradient = f_derivative(x)\n",
        "        x -= learning_rate * gradient\n",
        "        trajectory.append(x)\n",
        "\n",
        "    return x, trajectory\n",
        "\n",
        "# Set the hyperparameters\n",
        "learning_rate = 0.1 ### CHANGE THIS!\n",
        "iterations = 50 ### CHANGE THIS!\n",
        "\n",
        "# Perform gradient descent optimization\n",
        "optimum, trajectory = gradient_descent(learning_rate, iterations)\n",
        "\n",
        "# Plot the optimization process\n",
        "x_vals = np.linspace(-10, 10, 100)\n",
        "y_vals = f(x_vals)\n",
        "trajectory_vals = f(np.array(trajectory))\n",
        "\n",
        "plt.plot(x_vals, y_vals, label='f(x)')\n",
        "plt.scatter(trajectory, trajectory_vals, c='r', label='Gradient Descent')\n",
        "plt.xlabel('x')\n",
        "plt.ylabel('f(x)')\n",
        "plt.title('Gradient Descent Optimization')\n",
        "plt.legend()\n",
        "\n",
        "# Mark the optimum point\n",
        "plt.scatter(optimum, f(optimum), c='g', marker='o', label='Optimum')\n",
        "\n",
        "plt.show()\n"
      ],
      "metadata": {
        "colab": {
          "base_uri": "https://localhost:8080/",
          "height": 472
        },
        "id": "Xqjk_SxO7gWS",
        "outputId": "53616fe5-fafc-4601-d3fd-059ffa280edf"
      },
      "execution_count": null,
      "outputs": [
        {
          "output_type": "display_data",
          "data": {
            "text/plain": [
              "<Figure size 640x480 with 1 Axes>"
            ],
            "image/png": "[encoded data removed]"
          },
          "metadata": {}
        }
      ]
    },
    {
      "cell_type": "markdown",
      "source": [
        "Gradient descent refers to using derivatives and steps to determine the minimum (or maximum) of a function. It is often used for optimization problems where an analytical solution (i.e. a neat formula) may not exist.\n",
        "\n",
        "For those that have taken calculus, gradient descent uses Euler method except that new starting point is updated."
      ],
      "metadata": {
        "id": "TkXg1JAyPOgo"
      }
    },
    {
      "cell_type": "markdown",
      "source": [
        "For those that have taken calculus before, you may have a good sense of what's going on. For those that haven't, you've encountered a topic that you may have never seen before, and that's ok!\n",
        "\n",
        "In data science, two important skills are the ability to research and the ability to communicate. These skills allow you to explore new ideas and communicate them to a larger audience. After all, data science contains the word *science*.\n",
        "\n",
        "There are many more Python tutorials out there, but don't worry about being fluent in Python as much as being able to explain the ideas behind your code. We'll practice this throughout our time in computational statistics."
      ],
      "metadata": {
        "id": "mSIUmRlQ8W2-"
      }
    }
  ]
}