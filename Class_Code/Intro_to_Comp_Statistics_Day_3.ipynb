{
  "nbformat": 4,
  "nbformat_minor": 0,
  "metadata": {
    "colab": {
      "provenance": [],
      "authorship_tag": "ABX9TyMfNmcWgap4JOQZrQJHXacl",
      "include_colab_link": true
    },
    "kernelspec": {
      "name": "python3",
      "display_name": "Python 3"
    },
    "language_info": {
      "name": "python"
    }
  },
  "cells": [
    {
      "cell_type": "markdown",
      "metadata": {
        "id": "view-in-github",
        "colab_type": "text"
      },
      "source": [
        "<a href=\"https://colab.research.google.com/github/stswee/IntroCompStatsHSSP2023/blob/main/Class_Code/Intro_to_Comp_Statistics_Day_3.ipynb\" target=\"_parent\"><img src=\"https://colab.research.google.com/assets/colab-badge.svg\" alt=\"Open In Colab\"/></a>"
      ]
    },
    {
      "cell_type": "markdown",
      "source": [
        "# Introduction to Computational Statistics (HSSP 2023 Edition)\n",
        "## Day 3: Monte Carlo\n",
        "\n",
        "In this notebook, we will run exact statistical tests and Monte Carlo simulations."
      ],
      "metadata": {
        "id": "bNIhOabTXTXI"
      }
    },
    {
      "cell_type": "code",
      "source": [
        "# Import libraries\n",
        "import numpy as np\n",
        "import matplotlib.pyplot as plt\n",
        "from scipy.stats import chi2\n",
        "import scipy.stats as stats\n",
        "import random\n",
        "import math"
      ],
      "metadata": {
        "id": "OeitgSnrYKMR"
      },
      "execution_count": 1,
      "outputs": []
    },
    {
      "cell_type": "markdown",
      "source": [
        "### Activity 1: Rolling a Fair Dice"
      ],
      "metadata": {
        "id": "Q-15AlbkXvUx"
      }
    },
    {
      "cell_type": "markdown",
      "source": [
        "Problem Statement: You want to see if a dice is fair or not. After 60 rolls, you record:\n",
        "\n",
        "\n",
        "*   1: 10\n",
        "*   2: 3\n",
        "*   3: 12\n",
        "*   4: 24\n",
        "*   5: 6\n",
        "*   6: 5\n",
        "\n",
        "Compute the exact and estimated (monte-carlo) p-value.\n",
        "\n"
      ],
      "metadata": {
        "id": "R40QLyFLXy-X"
      }
    },
    {
      "cell_type": "code",
      "source": [
        "# By hand calculations\n",
        "observed = np.array([10, 3, 12, 24, 6, 5])\n",
        "expected = np.array([10, 10, 10, 10, 10, 10])\n",
        "\n",
        "# Calculate test statistic\n",
        "test_statistic = 0\n",
        "for i in range(len(observed)):\n",
        "  test_statistic += (observed[i] - expected[i])**2 / expected[i]\n",
        "test_statistic = int(test_statistic) # Exact value is 29, so remove floating-point approximation\n",
        "\n",
        "# Calculate degrees of freedom\n",
        "df = len(observed) - 1\n",
        "\n",
        "# Determine p-value\n",
        "# Remember that we want the area to the right\n",
        "pval = 1 - chi2.cdf(test_statistic, df, loc=0, scale=1)\n",
        "\n",
        "print('Test statistic is : ' + str(test_statistic))\n",
        "print('p value : ' + str(pval))"
      ],
      "metadata": {
        "colab": {
          "base_uri": "https://localhost:8080/"
        },
        "id": "dMxi42DkYFN4",
        "outputId": "050896f1-6a7e-4448-856a-8ac7287f5ad6"
      },
      "execution_count": 2,
      "outputs": [
        {
          "output_type": "stream",
          "name": "stdout",
          "text": [
            "Test statistic is : 29\n",
            "p value : 2.3187585803108313e-05\n"
          ]
        }
      ]
    },
    {
      "cell_type": "code",
      "source": [
        "# Using stats package\n",
        "test_statistic, pval = stats.chisquare(observed, expected)\n",
        "print('Test statistic is : ' + str(test_statistic))\n",
        "print('p value : ' + str(pval))"
      ],
      "metadata": {
        "id": "Gap31Py0adLO"
      },
      "execution_count": null,
      "outputs": []
    },
    {
      "cell_type": "code",
      "source": [
        "# Monte Carlo Simulation\n",
        "# Parameters\n",
        "B = 100000 # Number of samples (for B = 100000, about 5-10 seconds using by hand code; about 30 seconds with package code)\n",
        "low = 1\n",
        "high = 6\n",
        "expected = np.array([10, 10, 10, 10, 10, 10])\n",
        "\n",
        "# Storage for array of test statistics\n",
        "mc_test_statistics = np.empty(B)\n",
        "\n",
        "# Run Simulation\n",
        "for i in range(B):\n",
        "  # Generate random sample\n",
        "  mc_sample = [random.randint(low, high) for j in range(60)]\n",
        "\n",
        "  # Determine counts of each integer\n",
        "  mc_sample = [mc_sample.count(i) for i in range(1, 7)]\n",
        "\n",
        "  # By hand code\n",
        "  # Calculate test statistic\n",
        "  # mc_test_statistic = 0\n",
        "  # for j in range(len(mc_sample)):\n",
        "  #   mc_test_statistic += (mc_sample[j] - expected[j])**2 / expected[j]\n",
        "\n",
        "  # Package code\n",
        "  mc_test_statistic = stats.chisquare(mc_sample, expected)[0]\n",
        "\n",
        "  # Store test statistic\n",
        "  mc_test_statistics[i] = mc_test_statistic\n",
        "\n",
        "# MC p-value\n",
        "pval = (sum(mc_test_statistics > test_statistic) + 1)/ (B + 1)\n",
        "print(pval)"
      ],
      "metadata": {
        "id": "CdVSTtdJa_9S"
      },
      "execution_count": null,
      "outputs": []
    },
    {
      "cell_type": "markdown",
      "source": [
        "### Activity 2: Estimating pi"
      ],
      "metadata": {
        "id": "8oKSkxhXl8IC"
      }
    },
    {
      "cell_type": "markdown",
      "source": [
        "Problem Statement:\n",
        "\n",
        "Estimate pi using a Monte Carlo simulation"
      ],
      "metadata": {
        "id": "yKHnlazEmjis"
      }
    },
    {
      "cell_type": "code",
      "source": [
        "# Run Monte Carlo Simulation (no plot)\n",
        "num_points = 10000\n",
        "\n",
        "# Keep track of number of points\n",
        "circle_points = 0\n",
        "square_points = 0\n",
        "\n",
        "# Generate points\n",
        "for i in range(num_points):\n",
        "  # Generate random x and y values\n",
        "  x = random.uniform(0, 1)\n",
        "  y = random.uniform(0, 1)\n",
        "\n",
        "  # Determine distance from origin\n",
        "  d = math.sqrt(x**2 + y**2)\n",
        "\n",
        "  # If distance is less than 1, then the point is inside the quarter-circle\n",
        "  if (d <= 1):\n",
        "    circle_points += 1\n",
        "\n",
        "  # Increase number of square points\n",
        "  square_points += 1\n",
        "\n",
        "  # Generate estimate for pi every 1000 points\n",
        "  if ((i % 1000) == 0):\n",
        "    pi = round(4 * circle_points / square_points, 4)\n",
        "    error = round(math.pi - pi, 4)\n",
        "    print(\"The estimate of pi is \" + str(float(pi)) + \" with an error of \" + str(float(error)))\n"
      ],
      "metadata": {
        "id": "8we9x1ApmYSa"
      },
      "execution_count": null,
      "outputs": []
    },
    {
      "cell_type": "code",
      "source": [
        "# Run Monte Carlo Simulation (with plot)\n",
        "num_points = 100000\n",
        "\n",
        "# Keep track of number of points\n",
        "circle_points = 0\n",
        "square_points = 0\n",
        "\n",
        "# Store points\n",
        "circle_storage = np.empty([0, 2])\n",
        "square_storage = np.empty([0, 2])\n",
        "\n",
        "# Generate points\n",
        "for i in range(num_points):\n",
        "  # Generate random x and y values\n",
        "  x = random.uniform(0, 1)\n",
        "  y = random.uniform(0, 1)\n",
        "\n",
        "  # Determine distance from origin\n",
        "  d = math.sqrt(x**2 + y**2)\n",
        "\n",
        "  # If distance is less than 1, then the point is inside the quarter-circle\n",
        "  if (d <= 1):\n",
        "    circle_points += 1\n",
        "    circle_storage = np.append(circle_storage, [[x, y]], axis = 0)\n",
        "  else:\n",
        "    square_storage = np.append(square_storage, [[x, y]], axis = 0)\n",
        "\n",
        "  # Increase number of square points\n",
        "  square_points += 1\n",
        "\n",
        "  # Generate a plot for pi every 10000 points\n",
        "  if ((i % 10000) == 0):\n",
        "    fig = plt.figure()\n",
        "    ax1 = fig.add_subplot(111)\n",
        "    ax1.scatter(circle_storage[:,0], circle_storage[:,1], s=5, c='r', marker=\"o\", label='circle')\n",
        "    ax1.scatter(square_storage[:,0], square_storage[:,1], s=5, c='b', marker=\"o\", label='square')\n",
        "    plt.legend(loc='upper left')\n",
        "    plt.show()\n"
      ],
      "metadata": {
        "id": "75uA5ijPmfVr"
      },
      "execution_count": null,
      "outputs": []
    }
  ]
}